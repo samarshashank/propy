{
 "cells": [
  {
   "cell_type": "code",
   "execution_count": 54,
   "metadata": {},
   "outputs": [],
   "source": [
    "class Cousins:\n",
    "    def __init__(self,atease,name):\n",
    "        self.atease = atease\n",
    "        self.name = name\n",
    "        "
   ]
  },
  {
   "cell_type": "code",
   "execution_count": 51,
   "metadata": {},
   "outputs": [
    {
     "name": "stdout",
     "output_type": "stream",
     "text": [
      "sam is a favourite cousin\n",
      "jose is a favourite cousin\n",
      "ana is a favourite cousin\n",
      "phoebe is a favourite cousin\n",
      "lily is a favourite cousin\n",
      "eva is a favourite cousin\n",
      "\n",
      "lily is the most favourite\n"
     ]
    }
   ],
   "source": [
    "a = Cousins(9, 'sam')\n",
    "b = Cousins(8, 'jose')\n",
    "c = Cousins(9, 'ana')\n",
    "d = Cousins(5, 'troye')\n",
    "e = Cousins(8, 'phoebe')\n",
    "f = Cousins(7, 'quinn')\n",
    "g = Cousins(10, 'lily')\n",
    "h = Cousins(4, 'jade')\n",
    "i = Cousins(8, 'eva')\n",
    "j = Cousins(6, 'jeremy')\n",
    "\n",
    "lst = [a,b,c,d,e,f,g,h,i,j] \n",
    "\n",
    "for x in lst:\n",
    "\n",
    "    if x.atease >= 8:\n",
    "        print('{} is a favourite cousin'.format(x.name))\n",
    "    if x.atease == 10:\n",
    "        f = x.name\n",
    "        \n",
    "print('\\n{} is the most favourite'.format(f))"
   ]
  },
  {
   "cell_type": "code",
   "execution_count": 1,
   "metadata": {},
   "outputs": [],
   "source": [
    "class Conics:\n",
    "    def __init__(self):\n",
    "        print('Conic Section')\n",
    "        \n",
    "    def whatami(self):\n",
    "        print('A Family of certain closed 2-D shapes cut out off from a conic 3-D shape')\n",
    "        \n",
    "class Circle(Conics):\n",
    "    def __init__(self,eccentricity):\n",
    "        Conics.__init__(self)\n",
    "        print('Circle initiated')\n",
    "        self.eccentricity = eccentricity\n",
    "    \n",
    "    def whatami(self):\n",
    "        print('If you simply cut through a conical shape, horizontally, you would get me as the conical section')\n",
    "        \n",
    "class Parabola(Conics):\n",
    "    def __init__(self, eccentricity):\n",
    "        Conics.__init__(self)\n",
    "        print('Parabola initiated')\n",
    "        self.eccentricity = eccentricity\n",
    "        \n",
    "    def whatami(self):\n",
    "        print('Difficult to make you understand :(')\n",
    "        \n",
    "    \n",
    "    \n",
    "        "
   ]
  },
  {
   "cell_type": "code",
   "execution_count": 3,
   "metadata": {},
   "outputs": [
    {
     "name": "stdout",
     "output_type": "stream",
     "text": [
      "Conic Section\n",
      "Parabola initiated\n"
     ]
    }
   ],
   "source": [
    "p = Parabola(0.5)"
   ]
  },
  {
   "cell_type": "code",
   "execution_count": 4,
   "metadata": {},
   "outputs": [
    {
     "name": "stdout",
     "output_type": "stream",
     "text": [
      "Difficult to make you understand :(\n"
     ]
    }
   ],
   "source": [
    "p.whatami()"
   ]
  },
  {
   "cell_type": "code",
   "execution_count": 15,
   "metadata": {},
   "outputs": [],
   "source": [
    "class Line:\n",
    "    \n",
    "    def __init__(self,coor1,coor2):\n",
    "        self.coor1 = coor1\n",
    "        self.coor2 = coor2\n",
    "        \n",
    "    \n",
    "    def distance(self):\n",
    "        return math.sqrt((self.coor1[0]-self.coor2[0])**2 + (self.coor1[1]-self.coor2[1])**2)\n",
    "    \n",
    "    def slope(self):\n",
    "        return ((self.coor2[1]-self.coor1[1])/(self.coor2[0]-self.coor1[0]))"
   ]
  },
  {
   "cell_type": "code",
   "execution_count": 16,
   "metadata": {},
   "outputs": [],
   "source": [
    "coordinate1 = (3,2)\n",
    "coordinate2 = (8,10)\n",
    "\n",
    "li = Line(coordinate1,coordinate2)"
   ]
  },
  {
   "cell_type": "code",
   "execution_count": 17,
   "metadata": {},
   "outputs": [
    {
     "data": {
      "text/plain": [
       "9.433981132056603"
      ]
     },
     "execution_count": 17,
     "metadata": {},
     "output_type": "execute_result"
    }
   ],
   "source": [
    "li.distance()"
   ]
  },
  {
   "cell_type": "code",
   "execution_count": 18,
   "metadata": {},
   "outputs": [
    {
     "data": {
      "text/plain": [
       "1.6"
      ]
     },
     "execution_count": 18,
     "metadata": {},
     "output_type": "execute_result"
    }
   ],
   "source": [
    "li.slope()"
   ]
  },
  {
   "cell_type": "code",
   "execution_count": 25,
   "metadata": {},
   "outputs": [],
   "source": [
    "class Cylinder:\n",
    "    \n",
    "    pi = 3.14\n",
    "    \n",
    "    def __init__(self,height=1,radius=1):\n",
    "        self.height = height\n",
    "        self.radius = radius\n",
    "        \n",
    "    def volume(self):\n",
    "        return 3.14*((self.radius)**2)*self.height\n",
    "    \n",
    "    def surface_area(self):\n",
    "        return 2*3.14*self.radius*self.height + 2*3.14*(self.radius)**2"
   ]
  },
  {
   "cell_type": "code",
   "execution_count": 26,
   "metadata": {},
   "outputs": [],
   "source": [
    "c = Cylinder(2,3)\n"
   ]
  },
  {
   "cell_type": "code",
   "execution_count": 27,
   "metadata": {},
   "outputs": [
    {
     "data": {
      "text/plain": [
       "56.52"
      ]
     },
     "execution_count": 27,
     "metadata": {},
     "output_type": "execute_result"
    }
   ],
   "source": [
    "c.volume()\n"
   ]
  },
  {
   "cell_type": "code",
   "execution_count": 28,
   "metadata": {},
   "outputs": [
    {
     "data": {
      "text/plain": [
       "94.2"
      ]
     },
     "execution_count": 28,
     "metadata": {},
     "output_type": "execute_result"
    }
   ],
   "source": [
    "c.surface_area()\n"
   ]
  },
  {
   "cell_type": "code",
   "execution_count": 47,
   "metadata": {},
   "outputs": [],
   "source": [
    "class Account:\n",
    "    \n",
    "    def __init__(self,owner, balance):\n",
    "        self.owner = owner\n",
    "        self.balance = balance\n",
    "        \n",
    "    def __str__(self):\n",
    "        return 'Account owner:   {}\\nAccount balance: ${}'.format(self.owner, self.balance)\n",
    "    \n",
    "    def deposit(self, dep):\n",
    "        self.balance += dep\n",
    "        print('Deposit Accepted')\n",
    "        \n",
    "    def withdraw(self, wthdrw):\n",
    "        \n",
    "        if self.balance >= wthdrw:\n",
    "            self.balance -= wthdrw\n",
    "            print('Withdrawal Accepted')\n",
    "        else:\n",
    "            print('Funds Unavailable!')"
   ]
  },
  {
   "cell_type": "code",
   "execution_count": 48,
   "metadata": {},
   "outputs": [],
   "source": [
    "acct1 = Account('Jose',100)\n"
   ]
  },
  {
   "cell_type": "code",
   "execution_count": 49,
   "metadata": {},
   "outputs": [
    {
     "name": "stdout",
     "output_type": "stream",
     "text": [
      "Account owner:   Jose\n",
      "Account balance: $100\n"
     ]
    }
   ],
   "source": [
    "print(acct1)"
   ]
  },
  {
   "cell_type": "code",
   "execution_count": 50,
   "metadata": {},
   "outputs": [
    {
     "name": "stdout",
     "output_type": "stream",
     "text": [
      "Deposit Accepted\n"
     ]
    }
   ],
   "source": [
    "acct1.deposit(50)\n"
   ]
  },
  {
   "cell_type": "code",
   "execution_count": 51,
   "metadata": {},
   "outputs": [
    {
     "name": "stdout",
     "output_type": "stream",
     "text": [
      "Withdrawal Accepted\n"
     ]
    }
   ],
   "source": [
    "acct1.withdraw(75)\n"
   ]
  },
  {
   "cell_type": "code",
   "execution_count": 52,
   "metadata": {},
   "outputs": [
    {
     "data": {
      "text/plain": [
       "75"
      ]
     },
     "execution_count": 52,
     "metadata": {},
     "output_type": "execute_result"
    }
   ],
   "source": [
    "acct1.balance"
   ]
  },
  {
   "cell_type": "code",
   "execution_count": null,
   "metadata": {},
   "outputs": [],
   "source": []
  }
 ],
 "metadata": {
  "kernelspec": {
   "display_name": "Python 3",
   "language": "python",
   "name": "python3"
  },
  "language_info": {
   "codemirror_mode": {
    "name": "ipython",
    "version": 3
   },
   "file_extension": ".py",
   "mimetype": "text/x-python",
   "name": "python",
   "nbconvert_exporter": "python",
   "pygments_lexer": "ipython3",
   "version": "3.7.3"
  }
 },
 "nbformat": 4,
 "nbformat_minor": 2
}
