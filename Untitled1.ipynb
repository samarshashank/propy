{
 "cells": [
  {
   "cell_type": "code",
   "execution_count": 1,
   "metadata": {},
   "outputs": [],
   "source": [
    "mydict = {1:' ',2:' ',3:' ',4:' ',5:' ',6:' ',7:' ',8:' ',9:' '}"
   ]
  },
  {
   "cell_type": "code",
   "execution_count": 23,
   "metadata": {},
   "outputs": [
    {
     "data": {
      "text/plain": [
       "False"
      ]
     },
     "execution_count": 23,
     "metadata": {},
     "output_type": "execute_result"
    }
   ],
   "source": [
    "mydict == {1:' ', 2:' ', 3:' ', 4:' ', ' ', ' ', ' ', ' ', ' '}"
   ]
  },
  {
   "cell_type": "code",
   "execution_count": 20,
   "metadata": {},
   "outputs": [
    {
     "data": {
      "text/plain": [
       "dict_values([' ', ' ', ' ', ' ', ' ', ' ', ' ', ' ', ' '])"
      ]
     },
     "execution_count": 20,
     "metadata": {},
     "output_type": "execute_result"
    }
   ],
   "source": [
    "if for i in range(9): mydict.get(i) == ' '"
   ]
  },
  {
   "cell_type": "code",
   "execution_count": 49,
   "metadata": {},
   "outputs": [],
   "source": [
    "def res(dic,pl1,pl2):\n",
    "    ctr = 1\n",
    "        \n",
    "    for i in range(9):\n",
    "        if dic.get(i) != ' ':\n",
    "                ctr += 1\n",
    "        \n",
    "    if dic.get(1)==dic.get(2)==dic.get(3)==pl1 or dic.get(4)==dic.get(5)==dic.get(6)==pl1 or dic.get(7)==dic.get(8)==dic.get(9)==pl1:\n",
    "        print('Congratulations! Player1 you won.')\n",
    "        return True\n",
    "    \n",
    "    elif dic.get(1)==dic.get(2)==dic.get(3)==pl2 or dic.get(4)==dic.get(5)==dic.get(6)==pl2 or dic.get(7)==dic.get(8)==dic.get(9)==pl2:\n",
    "        print('Congratulations! Player2 you won')\n",
    "        return True\n",
    "        \n",
    "    elif dic.get(1)==dic.get(4)==dic.get(7)==pl1 or dic.get(2)==dic.get(5)==dic.get(8)==pl1 or dic.get(3)==dic.get(6)==dic.get(9)==pl1:\n",
    "        print('Congratulations! Player1 you won.')\n",
    "        return True\n",
    "    \n",
    "    elif dic.get(1)==dic.get(4)==dic.get(7)==pl2 or dic.get(2)==dic.get(5)==dic.get(8)==pl2 or dic.get(3)==dic.get(6)==dic.get(9)==pl2:\n",
    "        print('Congratulations! Player2 you won')\n",
    "        return True\n",
    "        \n",
    "    elif dic.get(1)==dic.get(5)==dic.get(9)==pl1 or dic.get(3)==dic.get(5)==dic.get(7)==pl1:\n",
    "        print('Congratulations! Player1 you won.')\n",
    "        return True\n",
    "    \n",
    "    elif dic.get(1)==dic.get(5)==dic.get(9)==pl2 or dic.get(3)==dic.get(5)==dic.get(7)==pl2:\n",
    "        print('Congratulations! Player2 you won')\n",
    "        return True\n",
    "    \n",
    "    \n",
    "    elif ctr == 9:\n",
    "        print(\"It's a tie!\")\n",
    "        return True\n",
    "        \n",
    "    else:\n",
    "        return False"
   ]
  },
  {
   "cell_type": "code",
   "execution_count": 50,
   "metadata": {},
   "outputs": [],
   "source": [
    "podic = {1: 'X', 2: ' ', 3: ' ', 4: ' ', 5: ' ', 6: ' ', 7: ' ', 8: ' ', 9: 'O'}"
   ]
  },
  {
   "cell_type": "code",
   "execution_count": 51,
   "metadata": {},
   "outputs": [
    {
     "data": {
      "text/plain": [
       "False"
      ]
     },
     "execution_count": 51,
     "metadata": {},
     "output_type": "execute_result"
    }
   ],
   "source": [
    "t = res(podic, 'X', 'O')\n",
    "t"
   ]
  },
  {
   "cell_type": "code",
   "execution_count": 52,
   "metadata": {},
   "outputs": [],
   "source": [
    "def res(dic,pl1,pl2):\n",
    "    ctr = 0\n",
    "        \n",
    "    for i in range(9):\n",
    "        if dic.get(i) != ' ':\n",
    "                ctr += 1\n",
    "        \n",
    "    if dic.get(1)==dic.get(2)==dic.get(3) or dic.get(4)==dic.get(5)==dic.get(6) or dic.get(7)==dic.get(8)==dic.get(9):\n",
    "        if dic.get(1)==pl1:\n",
    "            print('Congratulations! Player1 you won.')\n",
    "            return True\n",
    "        elif dic.get(1)==pl2:\n",
    "            print('Congratulations! Player2 you won')\n",
    "            return True\n",
    "        \n",
    "    elif dic.get(1)==dic.get(4)==dic.get(7) or dic.get(2)==dic.get(5)==dic.get(8) or dic.get(3)==dic.get(6)==dic.get(9):\n",
    "        if dic.get(1)==pl1:\n",
    "            print('Congratulations! Player1 you won.')\n",
    "            return True\n",
    "        elif dic.get(1)==pl2:\n",
    "            print('Congratulations! Player2 you won')\n",
    "            return True\n",
    "        \n",
    "    elif dic.get(1)==dic.get(5)==dic.get(9) or dic.get(3)==dic.get(5)==dic.get(7):\n",
    "        if dic.get(1)==pl1:\n",
    "            print('Congratulations! Player1 you won.')\n",
    "            return True\n",
    "        elif dic.get(1)==pl2:\n",
    "            print('Congratulations! Player2 you won')\n",
    "            return True\n",
    "    elif ctr == 9:\n",
    "        print(\"It's a tie!\")\n",
    "        return True\n",
    "        \n",
    "    else:\n",
    "        return False"
   ]
  },
  {
   "cell_type": "code",
   "execution_count": 53,
   "metadata": {},
   "outputs": [
    {
     "name": "stdout",
     "output_type": "stream",
     "text": [
      "Enter the 1st no. 0\n"
     ]
    }
   ],
   "source": [
    "out = '1st'\n",
    "i = input('Enter the {} no. '.format(out))"
   ]
  },
  {
   "cell_type": "code",
   "execution_count": null,
   "metadata": {},
   "outputs": [],
   "source": []
  }
 ],
 "metadata": {
  "kernelspec": {
   "display_name": "Python 3",
   "language": "python",
   "name": "python3"
  },
  "language_info": {
   "codemirror_mode": {
    "name": "ipython",
    "version": 3
   },
   "file_extension": ".py",
   "mimetype": "text/x-python",
   "name": "python",
   "nbconvert_exporter": "python",
   "pygments_lexer": "ipython3",
   "version": "3.7.3"
  }
 },
 "nbformat": 4,
 "nbformat_minor": 2
}
